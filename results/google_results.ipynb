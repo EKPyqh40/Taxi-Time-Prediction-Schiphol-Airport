{
 "cells": [
  {
   "cell_type": "code",
   "execution_count": 6,
   "metadata": {},
   "outputs": [],
   "source": [
    "import glob\n",
    "import pandas as pd\n",
    "import numpy as np\n",
    "import matplotlib.pyplot as plt"
   ]
  },
  {
   "cell_type": "code",
   "execution_count": 3,
   "metadata": {
    "scrolled": false
   },
   "outputs": [
    {
     "data": {
      "text/plain": [
       "dict_keys(['processed_dep_h0', 'processed_dep_h30', 'processed_dep_h120', 'processed_dep_h180'])"
      ]
     },
     "execution_count": 3,
     "metadata": {},
     "output_type": "execute_result"
    }
   ],
   "source": [
    "source = {}\n",
    "for path in glob.glob(r\"../../Data/t_taxi/*.csv\"):\n",
    "    source[len(pd.read_csv(path))] = path.split('\\\\')[-1].split('.')[0]\n",
    "\n",
    "data = {}\n",
    "for i, path in enumerate(glob.glob(r\"*.csv\")):\n",
    "    df = pd.read_csv(path)\n",
    "    if source[len(df)] in data.keys():\n",
    "        print(\"Duplicate: \", data[source[len(df)]].equals(df))\n",
    "    data[source[len(df)]] = df\n",
    "data.keys()"
   ]
  },
  {
   "cell_type": "code",
   "execution_count": 4,
   "metadata": {},
   "outputs": [],
   "source": [
    "from sklearn.metrics import mean_squared_error, mean_absolute_error\n",
    "import time\n",
    "\n",
    "def model_eval(y, y_pred, name=None, file=None, verbose=True, **kwargs):\n",
    "    report = {}\n",
    "    if name:\n",
    "        report['name'] = name\n",
    "        if verbose:\n",
    "            print(name)\n",
    "    \n",
    "    report[\"RMSE\"] = mean_squared_error(y, y_pred, squared=False)\n",
    "    report[\"MAE\"] = mean_absolute_error(y, y_pred)\n",
    "    report[\"% <2 min\"] = sum(abs(y-y_pred) < 2*60)/len(y)*100\n",
    "    report[\"% <5 min\"] = sum(abs(y-y_pred) < 5*60)/len(y)*100\n",
    "    report[\"% <7 min\"] = sum(abs(y-y_pred) < 7*60)/len(y)*100\n",
    "    report[\"time\"] = str(pd.Timestamp(round(time.time()), unit='s'))\n",
    "    \n",
    "    for kwarg in kwargs:\n",
    "        report[kwarg] = kwargs[kwarg]\n",
    "    \n",
    "    if file is not None:\n",
    "        with open(file, \"a\") as f:\n",
    "            f.write(str(report)+\"\\n\")\n",
    "    if verbose:\n",
    "        print(report)\n",
    "    return(report)"
   ]
  },
  {
   "cell_type": "markdown",
   "metadata": {},
   "source": [
    "The following code uses processed data returned by Google AutoML with predicted_t_taxi"
   ]
  },
  {
   "cell_type": "code",
   "execution_count": 13,
   "metadata": {},
   "outputs": [
    {
     "name": "stdout",
     "output_type": "stream",
     "text": [
      "google_auto_ml_h30\n",
      "{'name': 'google_auto_ml_h30', 'RMSE': 144.29598244767908, 'MAE': 101.8640053489542, '% <2 min': 69.60015874590734, '% <5 min': 96.30518900684592, '% <7 min': 98.75582895128485, 'time': '2021-04-14 21:21:47', 'dataset_train': 'processed_dep_h30', 'dataset_test': 'processed_dep_h0', 'model_type': 'AutoML', 'eval_type': 'SIMPLE_TEST'}\n",
      "google_auto_ml_h30\n",
      "{'name': 'google_auto_ml_h30', 'RMSE': 152.88532564536933, 'MAE': 107.62434124168415, '% <2 min': 67.90977981979832, '% <5 min': 95.27815899914474, '% <7 min': 98.28748732024583, 'time': '2021-04-14 21:21:47', 'dataset_train': 'processed_dep_h30', 'dataset_test': 'processed_dep_h30', 'model_type': 'AutoML', 'eval_type': 'SIMPLE_TEST'}\n",
      "google_auto_ml_h30\n",
      "{'name': 'google_auto_ml_h30', 'RMSE': 209.13292295551403, 'MAE': 148.14607634052322, '% <2 min': 55.43963627506698, '% <5 min': 87.44215312170172, '% <7 min': 94.40813509783227, 'time': '2021-04-14 21:21:47', 'dataset_train': 'processed_dep_h30', 'dataset_test': 'processed_dep_h120', 'model_type': 'AutoML', 'eval_type': 'SIMPLE_TEST'}\n",
      "google_auto_ml_h30\n",
      "{'name': 'google_auto_ml_h30', 'RMSE': 207.04236317726412, 'MAE': 146.63843748515123, '% <2 min': 56.023699802501646, '% <5 min': 87.55161888802442, '% <7 min': 94.54784846489915, 'time': '2021-04-14 21:21:47', 'dataset_train': 'processed_dep_h30', 'dataset_test': 'processed_dep_h180', 'model_type': 'AutoML', 'eval_type': 'SIMPLE_TEST'}\n"
     ]
    },
    {
     "data": {
      "image/png": "[encoded data removed]",
      "text/plain": [
       "<Figure size 432x288 with 1 Axes>"
      ]
     },
     "metadata": {
      "needs_background": "light"
     },
     "output_type": "display_data"
    }
   ],
   "source": [
    "labels = [\"Train\", \"Validate\", \"Test\"]\n",
    "data_train = []\n",
    "data_val = []\n",
    "data_test = []\n",
    "ticks = [0, 30, 120, 180]\n",
    "for h in ticks:\n",
    "    df = data['processed_dep_h{}'.format(h)]\n",
    "    data_train.append((df[df[\"dtype\"]==\"TRAIN\"]['predicted_t_taxi'] - df[df[\"dtype\"]==\"TRAIN\"]['t_taxi']).to_numpy(np.float64))\n",
    "    data_val.append((df[df[\"dtype\"]==\"VALIDATE\"]['predicted_t_taxi'] - df[df[\"dtype\"]==\"VALIDATE\"]['t_taxi']).to_numpy(np.float64))\n",
    "    data_test.append((df[df[\"dtype\"]==\"TEST\"]['predicted_t_taxi'] - df[df[\"dtype\"]==\"TEST\"]['t_taxi']).to_numpy(np.float64))\n",
    "#     model_eval(df[df[\"dtype\"]==\"TEST\"]['predicted_t_taxi'],\n",
    "#               df[df[\"dtype\"]==\"TEST\"]['t_taxi'],\n",
    "#               file=\"./../results/model_google_automl.results\",\n",
    "#               name=\"google_auto_ml_h30\",\n",
    "#             dataset_train=\"processed_dep_h30\",\n",
    "#             dataset_test=\"processed_dep_h{}\".format(h),\n",
    "#             model_type=\"AutoML\",\n",
    "#             eval_type=\"SIMPLE_TEST\",\n",
    "#     )\n",
    "\n",
    "colors = [\"#B9E0A5\", \"#FFE599\", \"#EA6B66\"]\n",
    "\n",
    "def set_box_color(bp, color):\n",
    "    plt.setp(bp['boxes'], color=color)\n",
    "    plt.setp(bp['whiskers'], color=color)\n",
    "    plt.setp(bp['caps'], color=color)\n",
    "    plt.setp(bp['medians'], color=color)\n",
    "\n",
    "plt.figure()\n",
    "\n",
    "bpl = plt.boxplot(data_train, positions=np.array(range(len(data_train)))*3.0-0.8, sym='', widths=0.6)\n",
    "bpm = plt.boxplot(data_val, positions=np.array(range(len(data_val)))*3.0, sym='', widths=0.6)\n",
    "bpr = plt.boxplot(data_test, positions=np.array(range(len(data_test)))*3.0+0.8, sym='', widths=0.6)\n",
    "set_box_color(bpl, colors[0]) # colors are from http://colorbrewer2.org/\n",
    "set_box_color(bpm, colors[1]) # colors are from http://colorbrewer2.org/\n",
    "set_box_color(bpr, colors[2])\n",
    "\n",
    "plt.plot([], c=colors[0], label=labels[0])\n",
    "plt.plot([], c=colors[1], label=labels[1])\n",
    "plt.plot([], c=colors[2], label=labels[2])\n",
    "plt.legend(loc=\"center right\", bbox_to_anchor=(1, .75))\n",
    "\n",
    "plt.plot([-3, 100], [0,0], color='black')\n",
    "\n",
    "plt.xticks(range(0, len(ticks) * 3, 3), ticks)\n",
    "plt.xlim(-3, len(ticks)*3)\n",
    "# plt.ylim(0, 8)\n",
    "plt.tight_layout()\n",
    "plt.savefig('boxcompare.png')"
   ]
  },
  {
   "cell_type": "code",
   "execution_count": null,
   "metadata": {},
   "outputs": [],
   "source": [
    "labels = [\"Train\", \"Test\"]\n",
    "data_train = []\n",
    "data_val = []\n",
    "data_test = []\n",
    "ticks = [0, 30, 120, 180]\n",
    "for h in ticks:\n",
    "    df = data['processed_dep_h{}'.format(h)]\n",
    "    data_train.append((df[df[\"dtype\"]==\"TRAIN\"]['predicted_t_taxi'] - df[df[\"dtype\"]==\"TRAIN\"]['t_taxi']).to_numpy(np.float64))\n",
    "    data_val.append((df[df[\"dtype\"]==\"VALIDATE\"]['predicted_t_taxi'] - df[df[\"dtype\"]==\"VALIDATE\"]['t_taxi']).to_numpy(np.float64))\n",
    "    data_test.append((df[df[\"dtype\"]==\"TEST\"]['predicted_t_taxi'] - df[df[\"dtype\"]==\"TEST\"]['t_taxi']).to_numpy(np.float64))\n",
    "#     model_eval(df[df[\"dtype\"]==\"TEST\"]['predicted_t_taxi'],\n",
    "#               df[df[\"dtype\"]==\"TEST\"]['t_taxi'],\n",
    "#               file=\"./../results/model_google_automl.results\",\n",
    "#               name=\"google_auto_ml_h30\",\n",
    "#             dataset_train=\"processed_dep_h30\",\n",
    "#             dataset_test=\"processed_dep_h{}\".format(h),\n",
    "#             model_type=\"AutoML\",\n",
    "#             eval_type=\"SIMPLE_TEST\",\n",
    "#     )\n",
    "\n",
    "colors = [\"#B9E0A5\", \"#FFE599\", \"#EA6B66\"]\n",
    "\n",
    "def set_box_color(bp, color):\n",
    "    plt.setp(bp['boxes'], color=color)\n",
    "    plt.setp(bp['whiskers'], color=color)\n",
    "    plt.setp(bp['caps'], color=color)\n",
    "    plt.setp(bp['medians'], color=color)\n",
    "\n",
    "plt.figure()\n",
    "\n",
    "bpl = plt.boxplot(data_train, positions=np.array(range(len(data_train)))*3.0-0.8, sym='', widths=0.6)\n",
    "bpm = plt.boxplot(data_val, positions=np.array(range(len(data_val)))*3.0, sym='', widths=0.6)\n",
    "bpr = plt.boxplot(data_test, positions=np.array(range(len(data_test)))*3.0+0.8, sym='', widths=0.6)\n",
    "set_box_color(bpl, colors[0]) # colors are from http://colorbrewer2.org/\n",
    "set_box_color(bpm, colors[1]) # colors are from http://colorbrewer2.org/\n",
    "set_box_color(bpr, colors[2])\n",
    "\n",
    "plt.plot([], c=colors[0], label=labels[0])\n",
    "plt.plot([], c=colors[1], label=labels[1])\n",
    "plt.plot([], c=colors[2], label=labels[2])\n",
    "plt.legend(loc=\"center right\", bbox_to_anchor=(1, .75))\n",
    "\n",
    "plt.plot([-3, 100], [0,0], color='black')\n",
    "\n",
    "plt.xticks(range(0, len(ticks) * 3, 3), ticks)\n",
    "plt.xlim(-3, len(ticks)*3)\n",
    "# plt.ylim(0, 8)\n",
    "plt.tight_layout()\n",
    "plt.savefig('boxcompare.png')"
   ]
  }
 ],
 "metadata": {
  "kernelspec": {
   "display_name": "Python 3",
   "language": "python",
   "name": "python3"
  },
  "language_info": {
   "codemirror_mode": {
    "name": "ipython",
    "version": 3
   },
   "file_extension": ".py",
   "mimetype": "text/x-python",
   "name": "python",
   "nbconvert_exporter": "python",
   "pygments_lexer": "ipython3",
   "version": "3.9.0"
  }
 },
 "nbformat": 4,
 "nbformat_minor": 5
}
