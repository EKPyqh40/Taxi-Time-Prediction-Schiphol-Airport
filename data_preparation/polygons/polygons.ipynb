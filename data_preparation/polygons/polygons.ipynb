{
 "cells": [
  {
   "cell_type": "code",
   "execution_count": 1,
   "metadata": {},
   "outputs": [],
   "source": [
    "import glob\r\n",
    "import psycopg2\r\n",
    "import json"
   ]
  },
  {
   "cell_type": "code",
   "execution_count": 2,
   "metadata": {},
   "outputs": [],
   "source": [
    "thesis_path = r\"C:\\Users\\cvaka\\OneDrive\\Master\\Thesis\"\r\n",
    "#thesis_path = r\"C:\\Users\\Christophe\\OneDrive\\Master\\Thesis\"\r\n",
    "table = \"polygons\""
   ]
  },
  {
   "cell_type": "code",
   "execution_count": 3,
   "metadata": {},
   "outputs": [],
   "source": [
    "conn = psycopg2.connect( \\\r\n",
    "    database=\"thesis\",\r\n",
    "    user = \"postgres\", \r\n",
    "    password = \"jonp8UMs8qDV4jEcwOC0\",\r\n",
    "    host = \"localhost\"\r\n",
    "    )\r\n",
    "cur = conn.cursor()"
   ]
  },
  {
   "cell_type": "code",
   "execution_count": 5,
   "metadata": {},
   "outputs": [],
   "source": [
    "query = \"\"\"\r\n",
    "DROP TABLE IF EXISTS {table};\r\n",
    "\r\n",
    "CREATE TABLE {table} \r\n",
    "(\r\n",
    "    id bigserial,\r\n",
    "    name text,\r\n",
    "    polygon polygon\r\n",
    ");\r\n",
    "\"\"\".format(table=table)\r\n",
    "cur.execute(query)\r\n",
    "conn.commit()"
   ]
  },
  {
   "cell_type": "code",
   "execution_count": 6,
   "metadata": {},
   "outputs": [],
   "source": [
    "paths = glob.glob(thesis_path + r\"\\Data\\\\\" + \"polygons\\\\\" + \"*.json\")\r\n",
    "polygons = {}\r\n",
    "for i, path in enumerate(paths): # Find all ast.gz files\r\n",
    "    with open(path, \"r\") as f: # Open decode and split into lines\r\n",
    "        polygons.update(json.load(f))"
   ]
  },
  {
   "cell_type": "code",
   "execution_count": 7,
   "metadata": {},
   "outputs": [],
   "source": [
    "# Ugly solution (legacy) to deal with one name for multiple polygons\r\n",
    "polygons_tuple = []\r\n",
    "for polygon in polygons:\r\n",
    "    if type(polygons[polygon][0][0])==list:\r\n",
    "        for j in polygons[polygon]:\r\n",
    "            polygons_tuple.append((polygon, j))\r\n",
    "    else:\r\n",
    "        polygons_tuple.append((polygon, polygons[polygon]))"
   ]
  },
  {
   "cell_type": "code",
   "execution_count": 8,
   "metadata": {},
   "outputs": [],
   "source": [
    "query = \"INSERT INTO {} (name, polygon) VALUES {}\".format(\r\n",
    "    table, \r\n",
    "    str(polygons_tuple)[1:-1].replace(\"[\",\"(\").replace(\"]\", \")\").replace(\"((\", \"'((\").replace(\"))\", \"))'\"))\r\n",
    "cur.execute(query)\r\n",
    "conn.commit()"
   ]
  }
 ],
 "metadata": {
  "kernelspec": {
   "display_name": "Python 3",
   "language": "python",
   "name": "python3"
  },
  "language_info": {
   "codemirror_mode": {
    "name": "ipython",
    "version": 3
   },
   "file_extension": ".py",
   "mimetype": "text/x-python",
   "name": "python",
   "nbconvert_exporter": "python",
   "pygments_lexer": "ipython3",
   "version": "3.9.0"
  },
  "orig_nbformat": 2
 },
 "nbformat": 4,
 "nbformat_minor": 2
}