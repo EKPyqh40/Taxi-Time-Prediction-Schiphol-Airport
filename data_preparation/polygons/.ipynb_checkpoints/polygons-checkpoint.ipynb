{
 "cells": [
  {
   "cell_type": "markdown",
   "metadata": {},
   "source": [
    "# Import Modules"
   ]
  },
  {
   "cell_type": "code",
   "execution_count": 1,
   "metadata": {},
   "outputs": [],
   "source": [
    "import glob\n",
    "import psycopg2\n",
    "import json"
   ]
  },
  {
   "cell_type": "markdown",
   "metadata": {},
   "source": [
    "# Input"
   ]
  },
  {
   "cell_type": "code",
   "execution_count": 2,
   "metadata": {},
   "outputs": [],
   "source": [
    "thesis_path = r\"C:\\Users\\cvaka\\OneDrive\\Master\\Thesis\"\n",
    "#thesis_path = r\"C:\\Users\\Christophe\\OneDrive\\Master\\Thesis\"\n",
    "table = \"polygons\""
   ]
  },
  {
   "cell_type": "markdown",
   "metadata": {},
   "source": [
    "# Connect to PostgreSQL"
   ]
  },
  {
   "cell_type": "code",
   "execution_count": 3,
   "metadata": {},
   "outputs": [],
   "source": [
    "conn = psycopg2.connect( \\\n",
    "    database=\"thesis\",\n",
    "    user = \"postgres\", \n",
    "    password = \"jonp8UMs8qDV4jEcwOC0\",\n",
    "    host = \"localhost\"\n",
    "    )\n",
    "cur = conn.cursor()"
   ]
  },
  {
   "cell_type": "markdown",
   "metadata": {},
   "source": [
    "# Create PostgreSQL Table"
   ]
  },
  {
   "cell_type": "code",
   "execution_count": 5,
   "metadata": {},
   "outputs": [],
   "source": [
    "query = \"\"\"\n",
    "DROP TABLE IF EXISTS {table};\n",
    "\n",
    "CREATE TABLE {table} \n",
    "(\n",
    "    id bigserial,\n",
    "    name text,\n",
    "    polygon polygon\n",
    ");\n",
    "\"\"\".format(table=table)\n",
    "cur.execute(query)\n",
    "conn.commit()"
   ]
  },
  {
   "cell_type": "markdown",
   "metadata": {},
   "source": [
    "# Read Polygon Files"
   ]
  },
  {
   "cell_type": "code",
   "execution_count": 6,
   "metadata": {},
   "outputs": [],
   "source": [
    "paths = glob.glob(thesis_path + r\"\\Data\\\\\" + \"polygons\\\\\" + \"*.json\")\n",
    "polygons = {}\n",
    "for i, path in enumerate(paths): # Find all ast.gz files\n",
    "    with open(path, \"r\") as f: # Open decode and split into lines\n",
    "        polygons.update(json.load(f))"
   ]
  },
  {
   "cell_type": "code",
   "execution_count": 7,
   "metadata": {},
   "outputs": [],
   "source": [
    "# Ugly solution (legacy) to deal with one name for multiple polygons\n",
    "polygons_tuple = []\n",
    "for polygon in polygons:\n",
    "    if type(polygons[polygon][0][0])==list:\n",
    "        for j in polygons[polygon]:\n",
    "            polygons_tuple.append((polygon, j))\n",
    "    else:\n",
    "        polygons_tuple.append((polygon, polygons[polygon]))"
   ]
  },
  {
   "cell_type": "markdown",
   "metadata": {},
   "source": [
    "# Upload Polygon Files"
   ]
  },
  {
   "cell_type": "code",
   "execution_count": 8,
   "metadata": {},
   "outputs": [],
   "source": [
    "query = \"INSERT INTO {} (name, polygon) VALUES {}\".format(\n",
    "    table, \n",
    "    str(polygons_tuple)[1:-1].replace(\"[\",\"(\").replace(\"]\", \")\").replace(\"((\", \"'((\").replace(\"))\", \"))'\"))\n",
    "cur.execute(query)\n",
    "conn.commit()"
   ]
  }
 ],
 "metadata": {
  "kernelspec": {
   "display_name": "Python 3",
   "language": "python",
   "name": "python3"
  },
  "language_info": {
   "codemirror_mode": {
    "name": "ipython",
    "version": 3
   },
   "file_extension": ".py",
   "mimetype": "text/x-python",
   "name": "python",
   "nbconvert_exporter": "python",
   "pygments_lexer": "ipython3",
   "version": "3.9.0"
  }
 },
 "nbformat": 4,
 "nbformat_minor": 2
}
