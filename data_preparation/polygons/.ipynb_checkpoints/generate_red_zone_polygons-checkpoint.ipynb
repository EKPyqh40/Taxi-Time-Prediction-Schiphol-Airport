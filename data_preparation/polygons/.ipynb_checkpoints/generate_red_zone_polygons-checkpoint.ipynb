{
 "cells": [
  {
   "cell_type": "code",
   "execution_count": 1,
   "metadata": {},
   "outputs": [],
   "source": [
    "import glob\n",
    "import ezdxf\n",
    "import json\n",
    "import numpy as np"
   ]
  },
  {
   "cell_type": "code",
   "execution_count": 2,
   "metadata": {},
   "outputs": [],
   "source": [
    "thesis_path = r\"C:\\Users\\cvaka\\OneDrive\\Master\\Thesis\""
   ]
  },
  {
   "cell_type": "code",
   "execution_count": 3,
   "metadata": {},
   "outputs": [],
   "source": [
    "def dxf_to_dict(file):\n",
    "    dxf_dict = {}\n",
    "    doc = ezdxf.readfile(file)\n",
    "    msp = doc.modelspace()\n",
    "    for e in msp:\n",
    "        if e.dxftype() == \"LINE\":\n",
    "            points = [e.dxf.start[:2], e.dxf.end[:2]]\n",
    "        elif e.dxftype() == \"LWPOLYLINE\":\n",
    "            points = e.get_points('xy')\n",
    "        else:\n",
    "            print('Dxftype {} not supported, hence ignored'.format(e.dxftype()))\n",
    "\n",
    "        if e.dxf.layer in dxf_dict:\n",
    "            if e.dxftype() in dxf_dict[e.dxf.layer]:\n",
    "                dxf_dict[e.dxf.layer][e.dxftype()].append(points)\n",
    "            else:\n",
    "                dxf_dict[e.dxf.layer][e.dxftype()] = [points]\n",
    "        else:\n",
    "            dxf_dict[e.dxf.layer] = {e.dxftype(): [points]}\n",
    "    return dxf_dict"
   ]
  },
  {
   "cell_type": "code",
   "execution_count": 4,
   "metadata": {},
   "outputs": [],
   "source": [
    "layers_data = {}\n",
    "for path in glob.iglob(thesis_path + r\"\\Data\\\\maps\\\\dxf\\\\\" + \"*.dxf\"): # alt: with open(\"data/layers.json\") as f: l = json.load(f)\n",
    "    layers_data.update(dxf_to_dict(path))"
   ]
  },
  {
   "cell_type": "code",
   "execution_count": 5,
   "metadata": {},
   "outputs": [],
   "source": [
    "polygons = {}\n",
    "for i, polygon in enumerate(layers_data['Twrsysrules Rode lijnen']['LWPOLYLINE']):\n",
    "    polygons['red_zone_{:0>2d}'.format(i)] = np.array(polygon).round(3).tolist()"
   ]
  },
  {
   "cell_type": "code",
   "execution_count": 5,
   "metadata": {},
   "outputs": [],
   "source": [
    "# Alternative Polygons:\n",
    "polygons = []\n",
    "for i, polygon in enumerate(layers_data['Twrsysrules Rode lijnen']['LWPOLYLINE']):\n",
    "    polygons.append(np.array(polygon).round(3).tolist())"
   ]
  },
  {
   "cell_type": "code",
   "execution_count": 7,
   "metadata": {},
   "outputs": [],
   "source": [
    "with open(thesis_path + r\"\\Results\\\\\" + \"Red_Zone_Polygons\\\\\" + \"red_zone_polygons.json\", 'w') as f:\n",
    "    json.dump(polygons, f, indent=4)"
   ]
  },
  {
   "cell_type": "code",
   "execution_count": 8,
   "metadata": {
    "tags": []
   },
   "outputs": [],
   "source": [
    "# Alternative Polygons:\n",
    "with open(thesis_path + \"\\\\Results\\\\\" + \"Red_Zone_Polygons\\\\\" + \"red_zone_polygons_alter.json\", 'w') as f:\n",
    "    json.dump({\"red_zone\": polygons}, f, indent=4)"
   ]
  }
 ],
 "metadata": {
  "kernelspec": {
   "display_name": "Python 3",
   "language": "python",
   "name": "python3"
  },
  "language_info": {
   "codemirror_mode": {
    "name": "ipython",
    "version": 3
   },
   "file_extension": ".py",
   "mimetype": "text/x-python",
   "name": "python",
   "nbconvert_exporter": "python",
   "pygments_lexer": "ipython3",
   "version": "3.9.0"
  }
 },
 "nbformat": 4,
 "nbformat_minor": 2
}
