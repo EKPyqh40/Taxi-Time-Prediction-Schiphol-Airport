{
 "cells": [
  {
   "cell_type": "code",
   "execution_count": null,
   "id": "second-currency",
   "metadata": {},
   "outputs": [],
   "source": [
    "import pandas as pd\n",
    "from sqlalchemy.engine import create_engine\n",
    "import glob\n",
    "import pandas as pd\n",
    "import json\n",
    "import numpy as np"
   ]
  },
  {
   "cell_type": "markdown",
   "id": "south-mountain",
   "metadata": {},
   "source": [
    "# Import Data"
   ]
  },
  {
   "cell_type": "code",
   "execution_count": null,
   "id": "corporate-champagne",
   "metadata": {},
   "outputs": [],
   "source": [
    "POSTGRES_ADDRESS = 'localhost'\n",
    "POSTGRES_USERNAME = 'postgres' \n",
    "POSTGRES_PASSWORD = 'jonp8UMs8qDV4jEcwOC0'\n",
    "POSTGRES_DBNAME = 'thesis'\n",
    "\n",
    "postgres_str = ('postgresql://{username}:{password}@{ipaddress}/{dbname}' \n",
    "                .format(username=POSTGRES_USERNAME,\n",
    "                        password=POSTGRES_PASSWORD,\n",
    "                        ipaddress=POSTGRES_ADDRESS,\n",
    "                        dbname=POSTGRES_DBNAME))\n",
    "\n",
    "cnx = create_engine(postgres_str)\n",
    "\n",
    "query = \"\"\"\n",
    "SELECT * \n",
    "FROM departures\n",
    "WHERE \n",
    "    temp >=3 AND \n",
    "    horizon = {} AND \n",
    "    substring(depgnr::text, '([A-Za-z]+).*')!='S' AND\n",
    "    s_missed_rwy = 0 AND\n",
    "    s_missed_red_zone = 0\n",
    ";\n",
    "\"\"\""
   ]
  },
  {
   "cell_type": "markdown",
   "id": "contained-cambodia",
   "metadata": {},
   "source": [
    "## PostgreSQL raw to Pickle/CSV"
   ]
  },
  {
   "cell_type": "code",
   "execution_count": null,
   "id": "protected-greensboro",
   "metadata": {},
   "outputs": [],
   "source": [
    "for h in [0, 30, 120, 180]:\n",
    "    df = pd.read_sql_query(query.format(h), cnx)\n",
    "    df.to_pickle(\"../data/t_taxi/raw_dep_h{}.pickle\".format(h))\n",
    "    df.to_csv(\"../data/t_taxi/raw_dep_h{}.csv\".format(h), index=False)"
   ]
  },
  {
   "cell_type": "markdown",
   "id": "collected-tennis",
   "metadata": {},
   "source": [
    "## PostgreSQL processed to CSV"
   ]
  },
  {
   "cell_type": "code",
   "execution_count": null,
   "id": "ranging-australia",
   "metadata": {},
   "outputs": [],
   "source": [
    "for h in [0, 30, 120, 180]:\n",
    "    df = pd.read_sql_query(query.format(h), cnx)\n",
    "    # Replace -, missing with NaN for center_crossing\n",
    "    df['center_crossing'][(df['center_crossing']=='-') | (df['trwy']!='36L')] = np.nan\n",
    "    df['trwy_ext'] = df['trwy'] + ('_' + df['center_crossing']).fillna('')\n",
    "    df.sort_values('t_predict', inplace=True)\n",
    "    \n",
    "    train = pd.DataFrame(index=df.iloc[:int(df.shape[0]*.7)].index)\n",
    "    train['dtype'] = \"TRAIN\"\n",
    "    val = pd.DataFrame(index=df.iloc[int(df.shape[0]*.7):int(df.shape[0]*0.85)].index)\n",
    "    val['dtype'] = \"VALIDATE\"\n",
    "    test = pd.DataFrame(index=df.iloc[int(df.shape[0]*0.85):].index)\n",
    "    test['dtype'] = \"TEST\"\n",
    "    df = pd.concat([df, pd.concat([train, val, test])], axis=1)\n",
    "    \n",
    "    with open(\"../Data/t_taxi/csv_docs.json\") as f:\n",
    "        df_docs = json.load(f)\n",
    "    \n",
    "    X_columns = []\n",
    "    for col in df_docs:\n",
    "        if 'y' in df_docs[col]['type']:\n",
    "            y_column = col\n",
    "#         if \"circular\" in df_docs[col]['type']:\n",
    "#             df[col] = pd.qcut(df[col], q=df_docs[col][\"n_bins\"])\n",
    "        if any(item in ['num', 'cat'] for item in df_docs[col]['type']):\n",
    "            X_columns.append(col)\n",
    "    \n",
    "    df[X_columns + [y_column, 'dtype']].to_csv(\"../data/t_taxi/processed_dep_h{}.csv\".format(h), index=False)"
   ]
  },
  {
   "cell_type": "markdown",
   "id": "finite-franchise",
   "metadata": {},
   "source": [
    "# Analyse Data \\[archive\\]"
   ]
  },
  {
   "cell_type": "code",
   "execution_count": null,
   "id": "major-navigator",
   "metadata": {},
   "outputs": [],
   "source": [
    "# import matplotlib.pyplot as plt\n",
    "\n",
    "# data = []\n",
    "# for i in range(60):\n",
    "#     data.append([i, len(df[(df['s_missed_rwy']<=i) & (df['s_missed_red_zone']<=i)])])\n",
    "# data = np.array(data)\n",
    "\n",
    "# plt.plot(data[:,0], data[:,1])\n",
    "# plt.show()"
   ]
  },
  {
   "cell_type": "code",
   "execution_count": null,
   "id": "pharmaceutical-string",
   "metadata": {},
   "outputs": [],
   "source": [
    "data = {}\n",
    "for path in glob.glob(r\"../Data/t_taxi/*.pickle\"):\n",
    "    data[path.split('\\\\')[-1].split('.')[0]] = pd.read_pickle(path)\n",
    "data.keys()\n",
    "\n",
    "df = data['dep_t3_h30_s0_m0']\n",
    "\n",
    "with open('../Data/t_taxi/docs.json', 'r') as f:\n",
    "    df_docs = json.load(f)\n",
    "\n",
    "df['center_crossing'][(df['center_crossing']=='-') | (df['trwy']!='36L')] = np.nan\n",
    "\n",
    "df['trwy_ext'] = df['trwy'] + ('_' + df['center_crossing']).fillna('')\n",
    "df_docs['trwy_ext'] = {\n",
    "    \"type\": [\"cat\"]\n",
    "}\n",
    "\n",
    "df['final_trwy_ext'] = df['final_trwy'] + ('_' + df['center_crossing']).fillna('')\n",
    "df_docs['final_trwy_ext'] = {\n",
    "    \"type\": [\"train\"],\n",
    "    \"test_eq\": 'trwy_ext'\n",
    "}\n",
    "\n",
    "df.sort_values('t_predict', inplace=True)\n",
    "\n",
    "X_columns = []\n",
    "for col in df_docs:\n",
    "    if 'y' in df_docs[col]['type']:\n",
    "        y_column = col\n",
    "    if any(item in ['num', 'cat'] for item in df_docs[col]['type']):\n",
    "        X_columns.append(col)\n",
    "\n",
    "y_column = 't_taxi'\n",
    "\n",
    "#X_columns = X_columns + [\"t_predict\"]\n",
    "\n",
    "ix_train = df[:int(df.shape[0]*0.7)].index\n",
    "ix_test = df[int(df.shape[0]*0.7):int(df.shape[0]*0.85)].index\n",
    "ix_val = df[int(df.shape[0]*0.85):].index\n",
    "\n",
    "X_train = df[X_columns][:int(df.shape[0]*0.7)]\n",
    "X_test = df[X_columns][int(df.shape[0]*0.7):int(df.shape[0]*0.85)]\n",
    "X_val = df[X_columns][int(df.shape[0]*0.85):]\n",
    "\n",
    "y_train = df[y_column][:int(df.shape[0]*0.7)]\n",
    "y_test = df[y_column][int(df.shape[0]*0.7):int(df.shape[0]*0.85)]\n",
    "y_val = df[y_column][int(df.shape[0]*0.85):]\n",
    "\n",
    "pf_columns = [\"t_predict\", \"t_taxi_end\"]\n",
    "X_pf_train = df[pf_columns][:int(df.shape[0]*0.7)]\n",
    "X_pf_test = df[pf_columns][int(df.shape[0]*0.7):int(df.shape[0]*0.85)]"
   ]
  },
  {
   "cell_type": "code",
   "execution_count": null,
   "id": "productive-example",
   "metadata": {},
   "outputs": [],
   "source": [
    "#df.loc[ix_train, X_columns].to_string() == X_train.to_string # TRUE"
   ]
  },
  {
   "cell_type": "code",
   "execution_count": null,
   "id": "internal-threat",
   "metadata": {},
   "outputs": [],
   "source": [
    "ix_train = df[:int(df.shape[0]*0.7)].index\n",
    "ix_test = df[int(df.shape[0]*0.7):int(df.shape[0]*0.85)].index\n",
    "ix_val = df[int(df.shape[0]*0.85):].index\n",
    "\n",
    "a = pd.DataFrame(ix_train).set_index(0)\n",
    "a['dtype'] = 'UNASSIGNED'\n",
    "b = pd.DataFrame(ix_test).set_index(0)\n",
    "b['dtype'] = 'TEST'\n",
    "c = pd.DataFrame(ix_val).set_index(0)\n",
    "c['dtype'] = 'Val'\n",
    "\n",
    "df_out = pd.concat([df, pd.concat([a,b,c])], axis=1)\n",
    "df_out = df_out[X_columns+[y_column, 'dtype']]\n",
    "df_out = df_out[(df_out['dtype']==\"TEST\")|(df_out['dtype']==\"UNASSIGNED\")]\n",
    "df_out.to_csv(\"AUTOML_TABLES_H30_2021_03_25.csv\", index=False)"
   ]
  },
  {
   "cell_type": "code",
   "execution_count": null,
   "id": "recorded-spectrum",
   "metadata": {
    "scrolled": true
   },
   "outputs": [],
   "source": [
    "#df_out[df_out['dtype']=='Train']['t_predict'].max() # Timestamp('2019-06-19 14:42:20+0000', tz='UTC')"
   ]
  },
  {
   "cell_type": "code",
   "execution_count": null,
   "id": "corporate-township",
   "metadata": {},
   "outputs": [],
   "source": [
    "#df_out[df_out['dtype']=='Test']['t_predict'].min() # Timestamp('2019-06-19 14:42:30+0000', tz='UTC')"
   ]
  },
  {
   "cell_type": "code",
   "execution_count": null,
   "id": "dimensional-competition",
   "metadata": {},
   "outputs": [],
   "source": [
    "#### for col in df_docs:\n",
    "#     if 'circular' in df_docs[col]['type']:\n",
    "#         print(col)\n",
    "#         if len(df_out[col].unique()) > df_docs[col]['n_bins']:\n",
    "#             df_out[col] = pd.qcut(df_out[col], df_docs[col]['n_bins'], labels=list(range(df_docs[col]['n_bins'])))"
   ]
  }
 ],
 "metadata": {
  "kernelspec": {
   "display_name": "Python 3",
   "language": "python",
   "name": "python3"
  },
  "language_info": {
   "codemirror_mode": {
    "name": "ipython",
    "version": 3
   },
   "file_extension": ".py",
   "mimetype": "text/x-python",
   "name": "python",
   "nbconvert_exporter": "python",
   "pygments_lexer": "ipython3",
   "version": "3.9.0"
  }
 },
 "nbformat": 4,
 "nbformat_minor": 5
}
