{
 "cells": [
  {
   "cell_type": "markdown",
   "id": "variable-knock",
   "metadata": {},
   "source": [
    "# Import Modules"
   ]
  },
  {
   "cell_type": "code",
   "execution_count": null,
   "id": "unable-underground",
   "metadata": {},
   "outputs": [],
   "source": [
    "import pandas as pd\n",
    "from sqlalchemy.engine import create_engine\n",
    "import glob\n",
    "import pandas as pd\n",
    "import json\n",
    "import numpy as np"
   ]
  },
  {
   "cell_type": "markdown",
   "id": "south-mountain",
   "metadata": {},
   "source": [
    "# Import Data"
   ]
  },
  {
   "cell_type": "code",
   "execution_count": null,
   "id": "corporate-champagne",
   "metadata": {},
   "outputs": [],
   "source": [
    "POSTGRES_ADDRESS = 'localhost'\n",
    "POSTGRES_USERNAME = 'postgres' \n",
    "POSTGRES_PASSWORD = 'jonp8UMs8qDV4jEcwOC0'\n",
    "POSTGRES_DBNAME = 'thesis'\n",
    "\n",
    "postgres_str = ('postgresql://{username}:{password}@{ipaddress}/{dbname}' \n",
    "                .format(username=POSTGRES_USERNAME,\n",
    "                        password=POSTGRES_PASSWORD,\n",
    "                        ipaddress=POSTGRES_ADDRESS,\n",
    "                        dbname=POSTGRES_DBNAME))\n",
    "\n",
    "cnx = create_engine(postgres_str)\n",
    "\n",
    "query = \"\"\"\n",
    "SELECT * \n",
    "FROM departures\n",
    "WHERE \n",
    "    temp >=3 AND \n",
    "    horizon = {} AND \n",
    "    substring(depgnr::text, '([A-Za-z]+).*')!='S' AND\n",
    "    s_missed_rwy = 0 AND\n",
    "    s_missed_red_zone = 0\n",
    ";\n",
    "\"\"\""
   ]
  },
  {
   "cell_type": "markdown",
   "id": "contained-cambodia",
   "metadata": {},
   "source": [
    "# PostgreSQL raw to Pickle/CSV"
   ]
  },
  {
   "cell_type": "code",
   "execution_count": null,
   "id": "protected-greensboro",
   "metadata": {},
   "outputs": [],
   "source": [
    "for h in [0, 30, 120, 180]:\n",
    "    df = pd.read_sql_query(query.format(h), cnx)\n",
    "    df.to_pickle(\"../data/t_taxi/raw_dep_h{}.pickle\".format(h))\n",
    "    df.to_csv(\"../data/t_taxi/raw_dep_h{}.csv\".format(h), index=False)"
   ]
  },
  {
   "cell_type": "markdown",
   "id": "collected-tennis",
   "metadata": {},
   "source": [
    "# PostgreSQL processed to CSV"
   ]
  },
  {
   "cell_type": "code",
   "execution_count": null,
   "id": "ranging-australia",
   "metadata": {},
   "outputs": [],
   "source": [
    "for h in [0, 30, 120, 180]:\n",
    "    df = pd.read_sql_query(query.format(h), cnx)\n",
    "    # Replace -, missing with NaN for center_crossing\n",
    "    df['center_crossing'][(df['center_crossing']=='-') | (df['trwy']!='36L')] = np.nan\n",
    "    df['trwy_ext'] = df['trwy'] + ('_' + df['center_crossing']).fillna('')\n",
    "    df.sort_values('t_predict', inplace=True)\n",
    "    \n",
    "    train = pd.DataFrame(index=df.iloc[:int(df.shape[0]*.7)].index)\n",
    "    train['dtype'] = \"TRAIN\"\n",
    "    val = pd.DataFrame(index=df.iloc[int(df.shape[0]*.7):int(df.shape[0]*0.85)].index)\n",
    "    val['dtype'] = \"VALIDATE\"\n",
    "    test = pd.DataFrame(index=df.iloc[int(df.shape[0]*0.85):].index)\n",
    "    test['dtype'] = \"TEST\"\n",
    "    df = pd.concat([df, pd.concat([train, val, test])], axis=1)\n",
    "    \n",
    "    with open(\"../Data/t_taxi/csv_docs.json\") as f:\n",
    "        df_docs = json.load(f)\n",
    "    \n",
    "    X_columns = []\n",
    "    for col in df_docs:\n",
    "        if 'y' in df_docs[col]['type']:\n",
    "            y_column = col\n",
    "#         if \"circular\" in df_docs[col]['type']:\n",
    "#             df[col] = pd.qcut(df[col], q=df_docs[col][\"n_bins\"])\n",
    "        if any(item in ['num', 'cat'] for item in df_docs[col]['type']):\n",
    "            X_columns.append(col)\n",
    "    \n",
    "    df[X_columns + [y_column, 'dtype']].to_csv(\"../data/t_taxi/processed_dep_h{}.csv\".format(h), index=False)"
   ]
  }
 ],
 "metadata": {
  "kernelspec": {
   "display_name": "Python 3",
   "language": "python",
   "name": "python3"
  },
  "language_info": {
   "codemirror_mode": {
    "name": "ipython",
    "version": 3
   },
   "file_extension": ".py",
   "mimetype": "text/x-python",
   "name": "python",
   "nbconvert_exporter": "python",
   "pygments_lexer": "ipython3",
   "version": "3.9.0"
  }
 },
 "nbformat": 4,
 "nbformat_minor": 5
}
