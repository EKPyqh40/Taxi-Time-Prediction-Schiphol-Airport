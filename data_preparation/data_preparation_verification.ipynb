{
 "cells": [
  {
   "cell_type": "markdown",
   "metadata": {},
   "source": [
    "# IMPORTANT: FIX file with departure edits!"
   ]
  },
  {
   "cell_type": "code",
   "execution_count": null,
   "metadata": {},
   "outputs": [],
   "source": [
    "import pandas as pd"
   ]
  },
  {
   "cell_type": "code",
   "execution_count": null,
   "metadata": {},
   "outputs": [],
   "source": [
    "thesis_path = r\"C:\\Users\\cvaka\\OneDrive\\Master\\Thesis\""
   ]
  },
  {
   "cell_type": "code",
   "execution_count": null,
   "metadata": {},
   "outputs": [],
   "source": [
    "from sqlalchemy import create_engine\n",
    "\n",
    "POSTGRES_ADDRESS = 'localhost'\n",
    "# POSTGRES_PORT = '5439'\n",
    "POSTGRES_USERNAME = 'postgres' \n",
    "POSTGRES_PASSWORD = 'jonp8UMs8qDV4jEcwOC0'\n",
    "POSTGRES_DBNAME = 'thesis'\n",
    "\n",
    "postgres_str = ('postgresql://{username}:{password}@{ipaddress}/{dbname}' # 'postgresql://{username}:{password}@{ipaddress}:{port}/{dbname}'\n",
    "                .format(username=POSTGRES_USERNAME,\n",
    "                        password=POSTGRES_PASSWORD,\n",
    "                        ipaddress=POSTGRES_ADDRESS,\n",
    "                        dbname=POSTGRES_DBNAME))\n",
    "\n",
    "cnx = create_engine(postgres_str) "
   ]
  },
  {
   "cell_type": "code",
   "execution_count": null,
   "metadata": {},
   "outputs": [],
   "source": [
    "df_dep = pd.read_sql_query(\"\"\"\n",
    "SELECT * FROM departures\n",
    ";\n",
    "\"\"\", cnx)"
   ]
  },
  {
   "cell_type": "markdown",
   "metadata": {},
   "source": [
    "# Astra Derived Exploration"
   ]
  },
  {
   "cell_type": "code",
   "execution_count": null,
   "metadata": {},
   "outputs": [],
   "source": [
    "pd.read_sql_query(\"\"\"\n",
    "SELECT \n",
    "    (SELECT COUNT(DISTINCT f_id_sep) FROM astra_derived WHERE type='arr' AND t_taxi IS NOT NULL) AS arr,\n",
    "    (SELECT COUNT(DISTINCT f_id_sep) FROM astra_derived WHERE type='dep' AND t_taxi IS NOT NULL) AS dep,\n",
    "    (SELECT COUNT(DISTINCT f_id_sep) FROM astra_derived WHERE type='double') AS both\n",
    "    ;\n",
    "\"\"\", cnx)"
   ]
  },
  {
   "cell_type": "code",
   "execution_count": null,
   "metadata": {},
   "outputs": [],
   "source": [
    "pd.read_sql_query(\"\"\"\n",
    "SELECT DISTINCT f_id_sep FROM astra_derived WHERE type = 'double';\n",
    "\"\"\", cnx)"
   ]
  },
  {
   "cell_type": "markdown",
   "metadata": {},
   "source": [
    "# Departures Exploration"
   ]
  },
  {
   "cell_type": "code",
   "execution_count": null,
   "metadata": {},
   "outputs": [],
   "source": [
    "departures_CTEs = \"\"\"\n",
    "WITH \n",
    "flt_processed_sel AS ( -- Allows for simple change of source table and or number of rows analyzed.\n",
    "    SELECT *\n",
    "    FROM flt_processed\n",
    "), \n",
    "dep_t0 AS (\n",
    "    SELECT flt.flt_sep_id, tstzrange(flt.flt_sep_first, flt.flt_sep_last) AS flt_range, flt_max.trwy AS final_trwy, max(flt.asrt) AS t0_predict\n",
    "    FROM \n",
    "        flt_processed_sel AS flt\n",
    "        LEFT JOIN\n",
    "        flt_processed_sel AS flt_max\n",
    "    ON flt.flt_sep_last = flt_max.t AND flt.flt_sep_id = flt_max.flt_sep_id\n",
    "    WHERE (flt.flown) AND (flt.landplane) AND (NOT flt.local) AND (NOT flt.civ_reg_gnr) AND (flt.dep_arr=0)\n",
    "    -- t0 is not null cannot be done within the where clause, done in next query.\n",
    "    GROUP BY flt.flt_sep_id, flt_range, flt_max.trwy\n",
    "),\n",
    "dep_t0_ast AS (\n",
    "    SELECT * \n",
    "    FROM dep_t0 AS dep\n",
    "    LEFT JOIN\n",
    "    astra_derived AS astra\n",
    "    ON \n",
    "        (Split_part(dep.flt_sep_id, '_', 2) = Split_part(astra.f_id_sep, '_', 1)) AND \n",
    "        (TO_TIMESTAMP(Split_part(astra.f_id_sep, '_', 2)::bigint) <@ dep.flt_range)\n",
    "    WHERE\n",
    "        (dep.t0_predict IS NOT NULL) AND \n",
    "        (astra.type = 'dep') AND\n",
    "        (dep.final_trwy = ANY(STRING_TO_ARRAY(astra.rwy, '/'::text)))       \n",
    "),\n",
    "dep_t0_ast_t AS (\n",
    "    SELECT *, dep.t0_predict - make_interval(mins := h.horizon) AS t_predict \n",
    "    FROM dep_t0_ast AS dep\n",
    "    CROSS JOIN (SELECT unnest('{0, 30, 120, 180}'::int[]) AS horizon) AS h \n",
    "), \n",
    "dep_t0_ast_t_flt AS (\n",
    "    SELECT dep.*, flt.trwy, flt.actype, flt.obt_predict, flt.depgnr, flt.sid\n",
    "    FROM dep_t0_ast_t AS dep\n",
    "    LEFT JOIN\n",
    "    flt_processed AS flt\n",
    "    ON (dep.flt_sep_id = flt.flt_sep_id) AND (dep.t_predict <@ flt.valid_range)\n",
    "    WHERE flt.obt_predict IS NOT NULL\n",
    "), \n",
    "flt_event_table AS (\n",
    "    SELECT valid_range,\n",
    "        CASE \n",
    "            WHEN dep_arr = 0 THEN obt_predict\n",
    "            WHEN dep_arr = 1 THEN at_predict\n",
    "        END AS t_event,\n",
    "        civ_reg_gnr AS civil,\n",
    "        (NOT civ_reg_gnr) AND (dep_arr = 0) AS com_dep,\n",
    "        (NOT civ_reg_gnr) AND (dep_arr = 1) AS com_arr\n",
    "    FROM flt_processed\n",
    "    WHERE NOT (obt_predict IS NULL AND at_predict IS NULL)\n",
    "),\n",
    "dep_c AS (\n",
    "    SELECT dep.flt_sep_id, dep.t_predict, sum(civil::int) AS n_civil, sum(com_dep::int) AS n_dep, sum(com_arr::int) AS n_arr\n",
    "    FROM\n",
    "        dep_t0_ast_t_flt AS dep\n",
    "        LEFT JOIN\n",
    "        flt_event_table AS flt_event\n",
    "        ON (dep.t_predict <@ flt_event.valid_range) AND ((dep.obt_predict - INTERVAL '10 minute')  <= flt_event.t_event) AND ((dep.obt_predict + INTERVAL '10 minute') >= flt_event.t_event)\n",
    "    GROUP BY dep.flt_sep_id, dep.t_predict\n",
    "),\n",
    "dep_t0_ast_t_flt_c AS (\n",
    "    SELECT dep.*, n_civil, n_dep, n_arr\n",
    "    FROM \n",
    "        dep_t0_ast_t_flt AS dep\n",
    "        LEFT JOIN\n",
    "        dep_c AS dep_c\n",
    "        ON dep.flt_sep_id = dep_c.flt_sep_id AND dep.t_predict = dep_c.t_predict\n",
    "), \n",
    "dep_t0_ast_t_flt_c_wtc AS (\n",
    "    SELECT dep.*, i.wtc\n",
    "    FROM \n",
    "        dep_t0_ast_t_flt_c AS dep\n",
    "        LEFT JOIN icao AS i \n",
    "        ON dep.actype = i.designator\n",
    "),\n",
    "dep_t0_ast_t_flt_c_wtc_wfs AS (\n",
    "    SELECT DISTINCT ON (dep.flt_sep_id, dep.t_predict) dep.*, wfs.rvr5000_1000, wfs.rvr1500_300, wfs.rvr550_200, wfs.rvr350, wfs.rvrcat, wfs.wind_dir, wfs.wind_dir_std, wfs.wind_spd, wfs.wind_spd_std, wfs.wind_stoten, wfs.temp, wfs.dew, wfs.snow, wfs.snow_heavy, wfs.rain_cool, wfs.cb, wfs.lightning, wfs.rvr5000_2000\n",
    "    --, concat(wfs.forecast_id, '_', wfs.t) AS wfs_row_id, wfs.f_type -- for debugging to check match \n",
    "    FROM\n",
    "        dep_t0_ast_t_flt_c_wtc AS dep\n",
    "        LEFT JOIN\n",
    "        wfs AS wfs\n",
    "        ON dep.t_predict >= wfs.t_publish AND dep.obt_predict <@ wfs.valid_range\n",
    "    ORDER BY dep.flt_sep_id ASC, dep.t_predict ASC, wfs.forecast_id DESC\n",
    "), \n",
    "dep_t0_ast_t_flt_c_wtc_wfs_rwy AS (\n",
    "    SELECT DISTINCT ON (dep.flt_sep_id, dep.t_predict) dep.*, rwy.plr1, rwy.plr2, rwy.ptr1, rwy.ptr2, rwy.alr1, rwy.alr2, rwy.atr1, rwy.atr2\n",
    "    --, concat(rwy.t_publish, '_', rwy.valid_range) AS rwy_row_id -- for debugging to check match \n",
    "    FROM \n",
    "        dep_t0_ast_t_flt_c_wtc_wfs AS dep\n",
    "        LEFT JOIN\n",
    "        rwy_config AS rwy\n",
    "        ON dep.t_predict >= rwy.t_publish AND dep.obt_predict <@ rwy.valid_range\n",
    "    ORDER BY dep.flt_sep_id ASC, dep.t_predict ASC, rwy.t_publish DESC, rwy.wfs_id DESC\n",
    ")\n",
    "\"\"\""
   ]
  },
  {
   "cell_type": "markdown",
   "metadata": {},
   "source": [
    "## Number of distinct flt_sep_id from flt_processed "
   ]
  },
  {
   "cell_type": "code",
   "execution_count": null,
   "metadata": {},
   "outputs": [],
   "source": [
    "pd.read_sql_query(departures_CTEs + \"\"\"\n",
    "SELECT\n",
    "    (SELECT COUNT(DISTINCT flt_sep_id) FROM dep_t0) AS flt_dep_records,\n",
    "    (SELECT COUNT(DISTINCT flt_sep_id) FROM dep_t0 WHERE t0_predict IS NOT NULL) AS with_t0_predict\n",
    "    ;\n",
    "\"\"\", cnx)"
   ]
  },
  {
   "cell_type": "code",
   "execution_count": null,
   "metadata": {},
   "outputs": [],
   "source": [
    "pd.read_sql_query(departures_CTEs + \"\"\"\n",
    "SELECT DISTINCT flt_sep_id FROM dep_t0 WHERE t0_predict IS NULL;\n",
    "\"\"\", cnx)"
   ]
  },
  {
   "cell_type": "markdown",
   "metadata": {},
   "source": [
    "## Number of departure tracks from astra_derived"
   ]
  },
  {
   "cell_type": "code",
   "execution_count": null,
   "metadata": {},
   "outputs": [],
   "source": [
    "pd.read_sql_query(\"\"\"\n",
    "SELECT \n",
    "    COUNT (*)\n",
    "FROM astra_derived\n",
    "WHERE type='dep';\n",
    ";\"\"\", cnx)"
   ]
  },
  {
   "cell_type": "code",
   "execution_count": null,
   "metadata": {},
   "outputs": [],
   "source": [
    "pd.read_sql_query(departures_CTEs + \"\"\"\n",
    "SELECT DISTINCT f_id_sep FROM astra_derived WHERE type='double';\n",
    "\"\"\", cnx)"
   ]
  },
  {
   "cell_type": "markdown",
   "metadata": {},
   "source": [
    "### max(asrt) vs flt_max asrt"
   ]
  },
  {
   "cell_type": "code",
   "execution_count": null,
   "metadata": {},
   "outputs": [],
   "source": [
    "pd.read_sql_query(\"\"\"\n",
    "WITH\n",
    "flt_processed_sel AS ( -- Allows for simple change of source table and or number of rows analyzed.\n",
    "    SELECT *\n",
    "    FROM flt_processed\n",
    "),\n",
    "dep_t0 AS (\n",
    "    SELECT flt.flt_sep_id, tstzrange(flt.flt_sep_first, flt.flt_sep_last) AS flt_range, flt_max.trwy AS final_trwy, max(flt.asrt) AS t0_predict\n",
    "    FROM \n",
    "        flt_processed_sel AS flt\n",
    "        LEFT JOIN\n",
    "        flt_processed_sel AS flt_max\n",
    "    ON flt.flt_sep_last = flt_max.t AND flt.flt_sep_id = flt_max.flt_sep_id\n",
    "    WHERE (flt.flown) AND (flt.landplane) AND (NOT flt.local) AND (NOT flt.civ_reg_gnr) AND (flt.dep_arr=0)\n",
    "    GROUP BY flt.flt_sep_id, flt_range, flt_max.trwy\n",
    "),\n",
    "dep_t0_flt_max AS (\n",
    "    SELECT DISTINCT ON (flt_sep_id)\n",
    "        flt_sep_id, \n",
    "        tstzrange(flt_sep_first, flt_sep_last) AS flt_range, \n",
    "        trwy AS final_trwy, \n",
    "        asrt AS t0_predict\n",
    "    FROM flt_processed_sel\n",
    "    WHERE t = flt_sep_last AND flown AND landplane AND (NOT local) AND (NOT civ_reg_gnr) AND dep_arr=0\n",
    "    ORDER BY flt_sep_id, t DESC\n",
    ")\n",
    "SELECT *\n",
    "FROM\n",
    "    dep_t0 AS a\n",
    "    FULL JOIN\n",
    "    dep_t0_flt_max AS b\n",
    "    ON a.flt_sep_id = b.flt_sep_id\n",
    "WHERE \n",
    "    ((a.flt_sep_id IS NULL) OR \n",
    "    (b.flt_sep_id IS NULL) OR \n",
    "    (a.flt_range != b.flt_range) OR \n",
    "    (a.final_trwy!=b.final_trwy) OR\n",
    "    (a.t0_predict!=b.t0_predict)) AND\n",
    "    (a.t0_predict IS NOT NULL)\n",
    ";\n",
    "\"\"\", cnx)\n",
    "    \n",
    "    "
   ]
  },
  {
   "cell_type": "markdown",
   "metadata": {},
   "source": [
    "## Number of distinct flt_sep_id from flt_processed with a t0 matched with an astra track (t_taxi IS NOT NULL and type='dep' and flt.final_trwy=astra.rwy)"
   ]
  },
  {
   "cell_type": "code",
   "execution_count": null,
   "metadata": {},
   "outputs": [],
   "source": [
    "pd.read_sql_query(departures_CTEs + \"\"\"\n",
    "SELECT\n",
    "    (\n",
    "        SELECT COUNT(DISTINCT flt_sep_id)\n",
    "        FROM dep_t0_ast\n",
    "    ) AS n_dep_t0_ast,\n",
    "    (\n",
    "        (SELECT COUNT(*) FROM dep_t0_ast) - (SELECT COUNT( DISTINCT flt_sep_id ) FROM dep_t0_ast)\n",
    "    ) AS multiple_join_error,\n",
    "    (\n",
    "        SELECT COUNT(DISTINCT flt_sep_id) \n",
    "        FROM \n",
    "            dep_t0 AS dep\n",
    "            LEFT JOIN\n",
    "            astra_derived AS astra\n",
    "            ON (Split_part(dep.flt_sep_id, '_', 2) = Split_part(astra.f_id_sep, '_', 1)) AND (TO_TIMESTAMP(Split_part(astra.f_id_sep, '_', 2)::bigint) <@ dep.flt_range)\n",
    "        WHERE astra.t_taxi IS NULL\n",
    "    ) AS t_taxi_null,\n",
    "    (\n",
    "        SELECT COUNT(DISTINCT flt_sep_id) \n",
    "        FROM \n",
    "            dep_t0 AS dep\n",
    "            LEFT JOIN\n",
    "            astra_derived AS astra\n",
    "            ON (Split_part(dep.flt_sep_id, '_', 2) = Split_part(astra.f_id_sep, '_', 1)) AND (TO_TIMESTAMP(Split_part(astra.f_id_sep, '_', 2)::bigint) <@ dep.flt_range)\n",
    "        WHERE (astra.type IS NULL)\n",
    "    ) AS type_null,\n",
    "    (\n",
    "        SELECT COUNT(DISTINCT flt_sep_id) \n",
    "        FROM \n",
    "            dep_t0 AS dep\n",
    "            LEFT JOIN\n",
    "            astra_derived AS astra\n",
    "            ON (Split_part(dep.flt_sep_id, '_', 2) = Split_part(astra.f_id_sep, '_', 1)) AND (TO_TIMESTAMP(Split_part(astra.f_id_sep, '_', 2)::bigint) <@ dep.flt_range)\n",
    "        WHERE (astra.type = 'double')\n",
    "    ) AS matched_to_double_arr,\n",
    "    (\n",
    "        SELECT COUNT(DISTINCT flt_sep_id)\n",
    "        FROM\n",
    "            dep_t0 AS dep\n",
    "            LEFT JOIN\n",
    "            astra_derived AS astra\n",
    "            ON (Split_part(dep.flt_sep_id, '_', 2) = Split_part(astra.f_id_sep, '_', 1)) AND (TO_TIMESTAMP(Split_part(astra.f_id_sep, '_', 2)::bigint) <@ dep.flt_range)\n",
    "        WHERE (astra.type = 'arr')\n",
    "    ) AS matched_to_arr,\n",
    "    (\n",
    "        SELECT COUNT(DISTINCT flt_sep_id)\n",
    "        FROM\n",
    "            dep_t0 AS dep\n",
    "            LEFT JOIN \n",
    "            astra_derived AS astra\n",
    "            ON (Split_part(dep.flt_sep_id, '_', 2) = Split_part(astra.f_id_sep, '_', 1)) AND (TO_TIMESTAMP(Split_part(astra.f_id_sep, '_', 2)::bigint) <@ dep.flt_range)\n",
    "        WHERE \n",
    "            (dep.t0_predict IS NOT NULL)        \n",
    "    ) AS no_t0_predict,\n",
    "    (\n",
    "        SELECT COUNT(DISTINCT flt_sep_id)\n",
    "        FROM\n",
    "            dep_t0 AS dep\n",
    "            LEFT JOIN \n",
    "            astra_derived AS astra\n",
    "            ON (Split_part(dep.flt_sep_id, '_', 2) = Split_part(astra.f_id_sep, '_', 1)) AND (TO_TIMESTAMP(Split_part(astra.f_id_sep, '_', 2)::bigint) <@ dep.flt_range)\n",
    "        WHERE \n",
    "            (dep.t0_predict IS NOT NULL) AND\n",
    "            (astra.type = 'dep')\n",
    "    ) AS no_type_dep,\n",
    "    (\n",
    "        SELECT COUNT(DISTINCT flt_sep_id)\n",
    "        FROM\n",
    "            dep_t0 AS dep\n",
    "            LEFT JOIN \n",
    "            astra_derived AS astra\n",
    "            ON (Split_part(dep.flt_sep_id, '_', 2) = Split_part(astra.f_id_sep, '_', 1)) AND (TO_TIMESTAMP(Split_part(astra.f_id_sep, '_', 2)::bigint) <@ dep.flt_range)\n",
    "        WHERE \n",
    "            (dep.t0_predict IS NOT NULL) AND\n",
    "            (type = 'dep') AND\n",
    "            (NOT dep.final_trwy = ANY(STRING_TO_ARRAY(rwy, '/'::text)))\n",
    "    ) AS no_final_trwy\n",
    ";\n",
    "\"\"\", cnx)"
   ]
  },
  {
   "cell_type": "markdown",
   "metadata": {},
   "source": [
    "When type!= dep then t_taxi IS NULL -> Filter unnecessary (t_taxi_null = type_null + type_double)"
   ]
  },
  {
   "cell_type": "markdown",
   "metadata": {},
   "source": [
    "### Incorrect Runway"
   ]
  },
  {
   "cell_type": "code",
   "execution_count": null,
   "metadata": {},
   "outputs": [],
   "source": [
    "pd.read_sql_query(\"\"\"\n",
    "SELECT \n",
    "    SUM((NOT final_trwy = ANY(STRING_TO_ARRAY(rwy, '/'::text)))::int) AS failed_final_trwy_match, \n",
    "    SUM((NOT trwy = ANY(STRING_TO_ARRAY(rwy, '/'::text)))::int) AS failed_trwy_match \n",
    "FROM departures\n",
    "\"\"\", cnx)"
   ]
  },
  {
   "cell_type": "code",
   "execution_count": null,
   "metadata": {},
   "outputs": [],
   "source": [
    "pd.read_sql_query(\"\"\"\n",
    "SELECT \n",
    "    SUM((NOT final_trwy = ANY(STRING_TO_ARRAY(rwy, '/'::text)))::int) AS failed_final_trwy_match, \n",
    "    SUM((NOT trwy = ANY(STRING_TO_ARRAY(rwy, '/'::text)))::int) AS failed_trwy_match \n",
    "FROM departures\n",
    "\"\"\", cnx)"
   ]
  },
  {
   "cell_type": "code",
   "execution_count": null,
   "metadata": {},
   "outputs": [],
   "source": [
    "df = pd.read_sql_query(\"\"\"\n",
    "SELECT DISTINCT ON (t0_predict, flt_sep_id) flt_sep_id, t0_predict\n",
    "FROM departures \n",
    "WHERE NOT final_trwy = ANY(STRING_TO_ARRAY(rwy, '/'::text))\n",
    "ORDER BY t0_predict, flt_sep_id, horizon\n",
    "\"\"\", cnx)\n",
    "df"
   ]
  },
  {
   "cell_type": "markdown",
   "metadata": {},
   "source": [
    "### Missing any obt"
   ]
  },
  {
   "cell_type": "code",
   "execution_count": null,
   "metadata": {},
   "outputs": [],
   "source": [
    "pd.read_sql_query(departures_CTEs + \"\"\"\n",
    "SELECT COUNT(DISTINCT flt_sep_id) FROM dep_t0_ast_t_flt\n",
    "\"\"\", cnx)"
   ]
  },
  {
   "cell_type": "markdown",
   "metadata": {},
   "source": [
    "## Number of departures with a obt_predict at t_predict for different horizons"
   ]
  },
  {
   "cell_type": "code",
   "execution_count": null,
   "metadata": {},
   "outputs": [],
   "source": [
    "df = pd.read_sql_query(departures_CTEs + \"\"\"\n",
    "SELECT horizon, count(DISTINCT flt_sep_id)\n",
    "FROM dep_t0_ast_t_flt\n",
    "GROUP BY horizon;\n",
    "\"\"\"\n",
    ", cnx)\n",
    "\n",
    "print('Total Predictions: ', df['count'].sum())\n",
    "df"
   ]
  },
  {
   "cell_type": "code",
   "execution_count": null,
   "metadata": {
    "scrolled": true
   },
   "outputs": [],
   "source": [
    "df = pd.read_sql_query(departures_CTEs + \"\"\"\n",
    "SELECT dep.*, flt.trwy, flt.actype, flt.obt_predict, flt.depgnr, flt.sid\n",
    "FROM \n",
    "    dep_t0_ast_t AS dep\n",
    "    LEFT JOIN\n",
    "    flt_processed AS flt\n",
    "    ON (dep.flt_sep_id = flt.flt_sep_id) AND (dep.t_predict <@ flt.valid_range)\n",
    "WHERE flt.obt_predict IS NULL AND dep.horizon = 0\n",
    "\"\"\", cnx)\n",
    "\n",
    "df.to_csv(\"obt_null_horizon_0.csv\")\n",
    "df\n",
    "# len(errors['obt_predict_NULL_at_horizon_0'].index)"
   ]
  },
  {
   "cell_type": "code",
   "execution_count": null,
   "metadata": {},
   "outputs": [],
   "source": [
    "pd.read_sql_query(departures_CTEs + \"\"\"\n",
    "SELECT\n",
    "    (SELECT COUNT(DISTINCT flt_sep_id) FROM dep_t0_ast_t),\n",
    "    (SELECT COUNT(DISTINCT flt_sep_id) FROM dep_t0_ast_t_flt),\n",
    "    (SELECT COUNT(DISTINCT flt_sep_id) FROM dep_t0_ast_t) - (SELECT COUNT(DISTINCT flt_sep_id) FROM dep_t0_ast_t_flt),\n",
    "    (\n",
    "        SELECT COUNT(*)\n",
    "        FROM (\n",
    "            SELECT dep.flt_sep_id, max(flt.obt_predict) AS max\n",
    "            FROM \n",
    "                dep_t0_ast_t AS dep\n",
    "                LEFT JOIN\n",
    "                flt_processed AS flt\n",
    "            ON (dep.flt_sep_id = flt.flt_sep_id) AND (dep.t_predict <@ flt.valid_range)\n",
    "            GROUP BY dep.flt_sep_id\n",
    "        ) AS foo\n",
    "        WHERE foo.max IS NULL\n",
    "\n",
    "    )\n",
    "\"\"\", cnx)"
   ]
  },
  {
   "cell_type": "code",
   "execution_count": null,
   "metadata": {},
   "outputs": [],
   "source": [
    "pd.read_sql_query(\"\"\"\n",
    "SELECT COUNT(*) FROM departures;\n",
    "\"\"\"\n",
    ", cnx)"
   ]
  },
  {
   "cell_type": "code",
   "execution_count": null,
   "metadata": {},
   "outputs": [],
   "source": [
    "pd.read_sql_query(\"\"\"\n",
    "SELECT COUNT(DISTINCT CONCAT(flt_sep_id, '_', t_predict)) FROM departures;\n",
    "\"\"\"\n",
    ", cnx)"
   ]
  },
  {
   "cell_type": "markdown",
   "metadata": {},
   "source": [
    "## WFS"
   ]
  },
  {
   "cell_type": "code",
   "execution_count": null,
   "metadata": {},
   "outputs": [],
   "source": [
    "pd.read_sql_query(\"\"\"\n",
    "SELECT COUNT( DISTINCT CONCAT(flt_sep_id, '_', t_predict))\n",
    "FROM departures \n",
    "WHERE\n",
    "    rvr5000_1000 IS NULL AND \n",
    "    rvr1500_300 IS NULL AND \n",
    "    rvr550_200 IS NULL AND \n",
    "    rvr350 IS NULL AND \n",
    "    rvrcat IS NULL AND \n",
    "    wind_dir IS NULL AND \n",
    "    wind_dir_std IS NULL AND \n",
    "    wind_spd IS NULL AND \n",
    "    wind_spd_std IS NULL AND \n",
    "    wind_stoten IS NULL AND \n",
    "    temp IS NULL AND \n",
    "    dew IS NULL AND \n",
    "    snow IS NULL AND \n",
    "    snow_heavy IS NULL AND \n",
    "    rain_cool IS NULL AND \n",
    "    cb IS NULL AND \n",
    "    lightning IS NULL AND \n",
    "    rvr5000_2000 IS NULL\n",
    ";\n",
    "\"\"\", cnx)"
   ]
  },
  {
   "cell_type": "code",
   "execution_count": null,
   "metadata": {
    "scrolled": true
   },
   "outputs": [],
   "source": [
    "pd.read_sql_query(\"\"\"\n",
    "SELECT \n",
    "--  flt_sep_id, \n",
    "    t_predict, \n",
    "    obt_predict--, \n",
    "--  horizon, \n",
    "--  t0_predict\n",
    "FROM departures \n",
    "WHERE\n",
    "    rvr5000_1000 IS NULL AND \n",
    "    rvr1500_300 IS NULL AND \n",
    "    rvr550_200 IS NULL AND \n",
    "    rvr350 IS NULL AND \n",
    "    rvrcat IS NULL AND \n",
    "    wind_dir IS NULL AND \n",
    "    wind_dir_std IS NULL AND \n",
    "    wind_spd IS NULL AND \n",
    "    wind_spd_std IS NULL AND \n",
    "    wind_stoten IS NULL AND \n",
    "    temp IS NULL AND \n",
    "    dew IS NULL AND \n",
    "    snow IS NULL AND \n",
    "    snow_heavy IS NULL AND \n",
    "    rain_cool IS NULL AND \n",
    "    cb IS NULL AND \n",
    "    lightning IS NULL AND \n",
    "    rvr5000_2000 IS NULL\n",
    ";\n",
    "\"\"\", cnx)"
   ]
  },
  {
   "cell_type": "code",
   "execution_count": null,
   "metadata": {},
   "outputs": [],
   "source": [
    "pd.read_sql_query(\"\"\"\n",
    "SELECT * FROM departures WHERE flt_sep_id = '61_YZR7480_1572856750'\n",
    ";\n",
    "\"\"\", cnx)"
   ]
  },
  {
   "cell_type": "markdown",
   "metadata": {},
   "source": [
    "## rwy_config"
   ]
  },
  {
   "cell_type": "code",
   "execution_count": null,
   "metadata": {},
   "outputs": [],
   "source": [
    "pd.read_sql_query(\"\"\"\n",
    "SELECT COUNT( DISTINCT CONCAT(flt_sep_id, '_', t_predict) )\n",
    "FROM departures \n",
    "WHERE\n",
    "    plr1 IS NULL AND\n",
    "    plr2 IS NULL AND\n",
    "    ptr1 IS NULL AND\n",
    "    ptr2 IS NULL AND\n",
    "    alr1 IS NULL AND\n",
    "    alr2 IS NULL AND\n",
    "    atr1 IS NULL AND\n",
    "    atr2 IS NULL\n",
    ";\n",
    "\"\"\", cnx)"
   ]
  },
  {
   "cell_type": "code",
   "execution_count": null,
   "metadata": {},
   "outputs": [],
   "source": [
    "pd.read_sql_query(\"\"\"\n",
    "SELECT horizon, COUNT( DISTINCT CONCAT(flt_sep_id, '_', t_predict) )\n",
    "FROM departures \n",
    "WHERE\n",
    "    plr1 IS NULL AND\n",
    "    plr2 IS NULL AND\n",
    "    ptr1 IS NULL AND\n",
    "    ptr2 IS NULL AND\n",
    "    alr1 IS NULL AND\n",
    "    alr2 IS NULL AND\n",
    "    atr1 IS NULL AND\n",
    "    atr2 IS NULL\n",
    "GROUP BY horizon\n",
    ";\n",
    "\"\"\", cnx)"
   ]
  },
  {
   "cell_type": "markdown",
   "metadata": {},
   "source": [
    "Cause: predictions are only published up to eight hours in advance with a minum of twenty minutes before."
   ]
  },
  {
   "cell_type": "code",
   "execution_count": null,
   "metadata": {},
   "outputs": [],
   "source": [
    "df = pd.read_sql_query(\"\"\"\n",
    "SELECT *\n",
    "FROM departures \n",
    "WHERE\n",
    "    plr1 IS NULL AND\n",
    "    plr2 IS NULL AND\n",
    "    ptr1 IS NULL AND\n",
    "    ptr2 IS NULL AND\n",
    "    alr1 IS NULL AND\n",
    "    alr2 IS NULL AND\n",
    "    atr1 IS NULL AND\n",
    "    atr2 IS NULL\n",
    ";\n",
    "\"\"\", cnx)\n",
    "df.to_csv(\"missing_rwy_config.csv\")\n",
    "df"
   ]
  },
  {
   "cell_type": "markdown",
   "metadata": {},
   "source": [
    "## departure null stats"
   ]
  },
  {
   "cell_type": "code",
   "execution_count": null,
   "metadata": {},
   "outputs": [],
   "source": [
    "df = []\n",
    "horizons = [0,30,120,180]\n",
    "for horizon in horizons:\n",
    "    df.append(df_dep[df_dep['horizon']==horizon].isnull().sum(axis=0).rename(horizon))\n",
    "df = pd.concat(df, axis=1)#, names=horizons)\n",
    "df ['total'] = df.sum(axis=1).rename('total')\n",
    "df = df[df['total']!=0].transpose()\n",
    "df.to_csv('nulls.csv')\n",
    "df\n",
    "#df[df==0]#.sum(axis=1)"
   ]
  },
  {
   "cell_type": "markdown",
   "metadata": {},
   "source": [
    "## Double Matches"
   ]
  },
  {
   "cell_type": "code",
   "execution_count": null,
   "metadata": {
    "scrolled": true
   },
   "outputs": [],
   "source": [
    "pd.read_sql_query(departures_CTEs + \"\"\"\n",
    "SELECT\n",
    "    (\n",
    "        SELECT COUNT(*)\n",
    "        FROM (\n",
    "            SELECT flt_sep_id, COUNT(*) AS c \n",
    "            FROM dep_t0\n",
    "            GROUP BY flt_sep_id\n",
    "        ) AS t0_duplicates\n",
    "        WHERE c != 1\n",
    "    ) AS t0_dup,\n",
    "    (\n",
    "        SELECT COUNT(*)\n",
    "        FROM (\n",
    "            SELECT flt_sep_id, COUNT(*) AS c \n",
    "            FROM dep_t0_ast\n",
    "            GROUP BY flt_sep_id\n",
    "        ) AS astra_dup\n",
    "        WHERE c!=1\n",
    "    ) AS astra_dup,\n",
    "    (\n",
    "        SELECT COUNT(*) FROM dep_t0_ast WHERE type!='dep'\n",
    "    ) AS astra_merge_errors,\n",
    "    (\n",
    "        SELECT COUNT(*)\n",
    "        FROM (\n",
    "            SELECT dep.flt_sep_id, dep.t_predict, wfs.forecast_id, COUNT(*) AS c\n",
    "            FROM \n",
    "                dep_t0_ast_t_flt AS dep\n",
    "                LEFT JOIN\n",
    "                wfs AS wfs\n",
    "                ON dep.t_predict >= wfs.t_publish AND dep.obt_predict <@ wfs.valid_range\n",
    "            GROUP BY dep.flt_sep_id, dep.t_predict, wfs.forecast_id\n",
    "        ) AS wfs_dup_errors\n",
    "        WHERE c!=1\n",
    "    ) AS wfs_dup_errors,\n",
    "    (\n",
    "        SELECT COUNT(*)\n",
    "        FROM (\n",
    "            SELECT dep.flt_sep_id, dep.t_predict, rwy.t_publish, COUNT(*) AS c\n",
    "            FROM dep_t0_ast_t_flt AS dep\n",
    "            LEFT JOIN\n",
    "            rwy_config AS rwy\n",
    "            ON dep.t_predict >= rwy.t_publish AND dep.obt_predict <@ rwy.valid_range\n",
    "            GROUP BY dep.flt_sep_id, dep.t_predict, rwy.t_publish\n",
    "        ) AS rwy_dup_errors\n",
    "        WHERE c!= 1\n",
    "    ) AS rwy_dup_errors\n",
    "\"\"\", cnx)"
   ]
  },
  {
   "cell_type": "code",
   "execution_count": null,
   "metadata": {},
   "outputs": [],
   "source": [
    "df = pd.read_sql_query(departures_CTEs + \"\"\"\n",
    "        SELECT *\n",
    "        FROM (\n",
    "            SELECT dep.flt_sep_id, dep.t_predict, rwy.t_publish, COUNT(*) AS c\n",
    "            FROM dep_t0_ast_t_flt AS dep\n",
    "            LEFT JOIN\n",
    "            rwy_config AS rwy\n",
    "            ON dep.t_predict >= rwy.t_publish AND dep.obt_predict <@ rwy.valid_range\n",
    "            GROUP BY dep.flt_sep_id, dep.t_predict, rwy.t_publish\n",
    "        ) AS rwy_dup_errors\n",
    "        WHERE c!= 1\n",
    "\"\"\", cnx)\n",
    "df.to_csv(\"cfs_duplicate_matches.csv\")"
   ]
  }
 ],
 "metadata": {
  "kernelspec": {
   "display_name": "Python 3",
   "language": "python",
   "name": "python3"
  },
  "language_info": {
   "codemirror_mode": {
    "name": "ipython",
    "version": 3
   },
   "file_extension": ".py",
   "mimetype": "text/x-python",
   "name": "python",
   "nbconvert_exporter": "python",
   "pygments_lexer": "ipython3",
   "version": "3.9.0"
  }
 },
 "nbformat": 4,
 "nbformat_minor": 2
}
