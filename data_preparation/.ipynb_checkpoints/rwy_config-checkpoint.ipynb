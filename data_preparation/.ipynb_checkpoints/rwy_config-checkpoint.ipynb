{
 "cells": [
  {
   "cell_type": "markdown",
   "metadata": {},
   "source": [
    "# Import Modules"
   ]
  },
  {
   "cell_type": "code",
   "execution_count": null,
   "metadata": {},
   "outputs": [],
   "source": [
    "import pandas as pd\n",
    "import psycopg2\n",
    "import time"
   ]
  },
  {
   "cell_type": "markdown",
   "metadata": {},
   "source": [
    "# Input"
   ]
  },
  {
   "cell_type": "code",
   "execution_count": null,
   "metadata": {},
   "outputs": [],
   "source": [
    "thesis_path = r\"C:\\Users\\cvaka\\OneDrive\\Master\\Thesis\"\n",
    "#thesis_path = r\"C:\\Users\\Christophe\\OneDrive\\Master\\Thesis\"\n",
    "table = 'rwy_config_new'\n",
    "\n",
    "datacols = [\"plr1\", \"plr2\", \"ptr1\", \"ptr2\", \"alr1\", \"alr2\", \"atr1\", \"atr2\"]\n",
    "usecols = [\"form_timestamp\", \"start\", \"period\", \"form_id\", \"wfs_id\", \"mas_datetime\"] + datacols"
   ]
  },
  {
   "cell_type": "markdown",
   "metadata": {},
   "source": [
    "# Connect to PostgreSQL"
   ]
  },
  {
   "cell_type": "code",
   "execution_count": null,
   "metadata": {},
   "outputs": [],
   "source": [
    "conn = psycopg2.connect( \\\n",
    "    database=\"thesis\",\n",
    "    user = \"postgres\", \n",
    "    password = \"jonp8UMs8qDV4jEcwOC0\",\n",
    "    host = \"localhost\"\n",
    "    )\n",
    "cur = conn.cursor()"
   ]
  },
  {
   "cell_type": "markdown",
   "metadata": {},
   "source": [
    "# Read and Process CFS"
   ]
  },
  {
   "cell_type": "code",
   "execution_count": null,
   "metadata": {},
   "outputs": [],
   "source": [
    "# Read\n",
    "cfs = pd.read_csv(thesis_path + \"/data/rwy_config/cfs.csv\", usecols=usecols)\n",
    "cfs = cfs.astype({\n",
    "    \"form_timestamp\": \"datetime64[ns]\",\n",
    "    \"start\": \"datetime64[ns]\",\n",
    "    })\n",
    "# cfs[datacols] = cfs[datacols].replace({\"-\": float(\"NaN\")})\n",
    "cfs[datacols] = cfs[datacols].fillna('-')\n",
    "cfs[\"n_data\"] = (cfs[datacols]=='-').sum(axis=1)\n",
    "\n",
    "# Fix inconsistencies\n",
    "cfs['end'] = cfs['period'].str.replace(\"--\", \"-\").str.replace(\"=\", \"-\").str.strip(to_strip=' -')\n",
    "# Could be put into one regex pattern, too much work :D\n",
    "replacements = [['([0,1,2]\\d[0-5]\\d)([0,1,2]\\d[0-5]\\d)', lambda m: m.group(1)+\"-\"+m.group(2)], # missing - at in the middle\n",
    "['0000-UFN', '0000-2359'],  \n",
    "['([0,1,2]\\d)00-UFN', lambda m: m.group(1) + \"00-\" + \"{0:0=2d}\".format(int(m.group(1))-1) + '59'],\n",
    "['([0,1,2]\\d[0-5]\\d)-UFN', lambda m: m.group(1) + \"-{0:0=4d}\".format(int(m.group(1))-1)]]\n",
    "for replacement in replacements:\n",
    "    cfs['end'] = cfs['end'].str.replace(replacement[0], replacement[1])\n",
    "\n",
    "print(\"Ignored due to inconsitent reporting: \", cfs[~cfs['end'].str.fullmatch('[0,1,2]\\d[0-5]\\d-[0,1,2]\\d[0-5]\\d')][[\"form_id\", \"period\"]])\n",
    "\n",
    "cfs = cfs[cfs['end'].str.fullmatch('[0,1,2]\\d[0-5]\\d-[0,1,2]\\d[0-5]\\d')]\n",
    "cfs['end'] = cfs['end'].str.replace(\n",
    "    '([0,1,2]\\d)([0-5]\\d)-([0,1,2]\\d)([0-5]\\d)',\n",
    "    lambda m: str(int(m.group(3))*60 + int(m.group(4)) - int(m.group(1))*60 -int(m.group(2)))).astype(int)\n",
    "cfs['end'] = cfs['end'] + 24*60*(cfs['end']<0)\n",
    "cfs['end'] = cfs['start'] + pd.to_timedelta(cfs['end'], unit='m')\n",
    "\n",
    "cfs = cfs.reindex(columns=usecols[:2] + [\"end\", \"n_data\"] + usecols[2:])\n",
    "\n",
    "# Sort such that the the most likely to be correct entry is first \n",
    "cfs.sort_values(by=[\"wfs_id\", \"n_data\", \"mas_datetime\"], inplace=True)\n",
    "# cfs.drop_duplicates(subset=['form_timestamp', 'start', 'end'], keep=\"first\", inplace=True)\n",
    "cfs.drop_duplicates(subset=['form_timestamp', 'start'], keep=\"first\", inplace=True)\n",
    "cfs.drop_duplicates(subset=['form_timestamp', 'end'], keep=\"first\", inplace=True)\n",
    "\n",
    "cfs.rename(columns= {'form_timestamp':'t_publish'}, inplace=True)\n",
    "cfs['valid_range'] = '[' + cfs['start'].astype(str) + ', ' + cfs['end'].astype(str) + ')'\n",
    "cfs.drop(['start', 'end'], axis=1, inplace=True)\n",
    "cfs = cfs.reindex(columns=['t_publish', 'valid_range', 'wfs_id'] + datacols)\n",
    "\n",
    "# Save to CSV\n",
    "# cfs.drop([\"form_id\", \"period\", \"n_data\", \"wfs_id\", \"mas_datetime\"], axis=1, inplace=True)\n",
    "cfs.to_csv(\"cfs_processed.csv\", index=False)\n",
    "cfs.to_csv(\"../../results/cfs_processed.csv\")\n",
    "cfs"
   ]
  },
  {
   "cell_type": "markdown",
   "metadata": {},
   "source": [
    "# Upload CFS to PostgreSQL"
   ]
  },
  {
   "cell_type": "code",
   "execution_count": null,
   "metadata": {},
   "outputs": [],
   "source": [
    "# query = \"\"\"\n",
    "# DROP TABLE IF EXISTS rwy_config;\n",
    "\n",
    "# CREATE TABLE rwy_config (\n",
    "#     t_publish timestamp,\n",
    "# --    t_start timestamp,\n",
    "# --    t_end timestamp,\n",
    "#     valid_range tstzrange,\n",
    "#     wfs_id int,\n",
    "#     plr1 text,\n",
    "#     plr2 text,\n",
    "#     ptr1 text,\n",
    "#     ptr2 text,\n",
    "#     alr1 text,\n",
    "#     alr2 text,\n",
    "#     atr1 text,\n",
    "#     atr2 text,\n",
    "# --    PRIMARY KEY (t_publish, t_start, t_end)\n",
    "#     PRIMARY KEY (t_publish, valid_range)\n",
    "# );\n",
    "\n",
    "# CREATE INDEX rwy_config_t_publish\n",
    "#     ON public.rwy_config USING btree\n",
    "#     (t_publish ASC NULLS LAST)\n",
    "# ;\n",
    "\n",
    "# CREATE INDEX rwy_config_valid_range\n",
    "#     ON public.rwy_config USING gist\n",
    "#     (valid_range)\n",
    "# ;\n",
    "\n",
    "# -- CREATE INDEX rwy_config_t_end\n",
    "# --     ON public.rwy_config USING btree\n",
    "# --     (t_end ASC NULLS LAST)\n",
    "# ;\n",
    "# \"\"\"\n",
    "# cur.execute(query)\n",
    "# conn.commit()"
   ]
  },
  {
   "cell_type": "code",
   "execution_count": null,
   "metadata": {},
   "outputs": [],
   "source": [
    "print(\"\"\"\n",
    "set PGPASSWORD=jonp8UMs8qDV4jEcwOC0\n",
    "\"C:\\\\Program Files\\\\PostgreSQL\\\\13\\\\bin\\\\psql.exe\" thesis postgres\n",
    "\\copy public.rwy_config (t_publish, t_start, t_end, plr1, plr2, ptr1, ptr2, alr1, alr2, atr1, atr2) FROM 'C:/Users/cvaka/OneDrive/Master/Thesis/SQL/rwy_config/cfs_processed.csv' DELIMITER ',' CSV HEADER QUOTE '\"' ESCAPE '''';\n",
    "\\copy public.rwy_config (t_publish, valid_range, wfs_id, plr1, plr2, ptr1, ptr2, alr1, alr2, atr1, atr2) FROM 'C:/Users/cvaka/OneDrive/Master/Thesis/SQL/rwy_config/cfs_processed.csv' DELIMITER ',' CSV HEADER QUOTE '\"' ESCAPE '''';\n",
    "\"\"\")"
   ]
  }
 ],
 "metadata": {
  "kernelspec": {
   "display_name": "Python 3",
   "language": "python",
   "name": "python3"
  },
  "language_info": {
   "codemirror_mode": {
    "name": "ipython",
    "version": 3
   },
   "file_extension": ".py",
   "mimetype": "text/x-python",
   "name": "python",
   "nbconvert_exporter": "python",
   "pygments_lexer": "ipython3",
   "version": "3.9.0"
  }
 },
 "nbformat": 4,
 "nbformat_minor": 2
}
